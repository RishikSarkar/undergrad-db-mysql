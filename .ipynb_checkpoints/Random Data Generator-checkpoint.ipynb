{
 "cells": [
  {
   "cell_type": "markdown",
   "id": "7e30ee3f",
   "metadata": {},
   "source": [
    "# Generating Random Students"
   ]
  },
  {
   "cell_type": "code",
   "execution_count": 1,
   "id": "404d866e",
   "metadata": {},
   "outputs": [],
   "source": [
    "import pickle"
   ]
  },
  {
   "cell_type": "code",
   "execution_count": 2,
   "id": "41bdfb96",
   "metadata": {},
   "outputs": [],
   "source": [
    "import random"
   ]
  },
  {
   "cell_type": "code",
   "execution_count": 3,
   "id": "2db9e3b0",
   "metadata": {},
   "outputs": [],
   "source": [
    "import re"
   ]
  },
  {
   "cell_type": "code",
   "execution_count": 4,
   "id": "982e2a82",
   "metadata": {},
   "outputs": [],
   "source": [
    "# with open('data/students-cmd-list.ob', 'rb') as fp:\n",
    "#     temp_list = pickle.load(fp)"
   ]
  },
  {
   "cell_type": "code",
   "execution_count": 5,
   "id": "8bf43e72",
   "metadata": {},
   "outputs": [],
   "source": [
    "# firstname = open('first-names.txt').read().splitlines()\n",
    "# lastname = open('last-names.txt').read().splitlines()\n",
    "\n",
    "# print(random.choice(firstname))\n",
    "# print(random.choice(lastname).title())"
   ]
  },
  {
   "cell_type": "code",
   "execution_count": 6,
   "id": "39143697",
   "metadata": {},
   "outputs": [],
   "source": [
    "# names = []\n",
    "# ids = []\n",
    "\n",
    "# i = 0\n",
    "# for i in range(100):\n",
    "#     temp = []\n",
    "#     first = random.choice(firstname)\n",
    "#     last = random.choice(lastname).title()\n",
    "    \n",
    "#     sid = random.randint(100000000, 999999999)\n",
    "    \n",
    "#     while sid in ids:\n",
    "#         sid = random.randint(100000000, 999999999)\n",
    "        \n",
    "#     temp = [first, last, sid]\n",
    "#     ids.append(sid)\n",
    "#     names.append(temp)\n",
    "\n",
    "# print(names)"
   ]
  },
  {
   "cell_type": "code",
   "execution_count": 7,
   "id": "fcb789ad",
   "metadata": {},
   "outputs": [],
   "source": [
    "# student_commands = []\n",
    "\n",
    "# for i in names:\n",
    "#     temp = \"INSERT INTO Students (first_name, last_name, id) VALUES ('\" + i[0] + \"', '\" + i[1] + \"', \" + str(i[2]) + \");\"\n",
    "#     student_commands.append(temp)\n",
    "#     print(temp)"
   ]
  },
  {
   "cell_type": "code",
   "execution_count": 8,
   "id": "0dfe9f1d",
   "metadata": {},
   "outputs": [],
   "source": [
    "# if len(temp_list) == 0:\n",
    "#     with open('data/students-cmd-list.ob', 'wb') as fp:\n",
    "#         pickle.dump(student_commands, fp)"
   ]
  },
  {
   "cell_type": "code",
   "execution_count": 9,
   "id": "485a8b4a",
   "metadata": {},
   "outputs": [],
   "source": [
    "with open('data/students-cmd-list.ob', 'rb') as fp:\n",
    "    student_cmd_list = pickle.load(fp)"
   ]
  },
  {
   "cell_type": "code",
   "execution_count": 10,
   "id": "a59dc6df",
   "metadata": {},
   "outputs": [],
   "source": [
    "students = []\n",
    "\n",
    "for i in student_cmd_list:\n",
    "    # print(i)\n",
    "    temp = re.findall(\"'([^']*)'\", i)\n",
    "    temp.append(int(re.findall(\"\\d+\", i)[0]))\n",
    "    students.append(temp)"
   ]
  },
  {
   "cell_type": "code",
   "execution_count": 11,
   "id": "503166b3",
   "metadata": {},
   "outputs": [
    {
     "data": {
      "text/plain": [
       "[['Celesta', 'Harren', 134304142],\n",
       " ['Storm', 'Everet', 242601337],\n",
       " ['Stevena', 'Citino', 349264939],\n",
       " ['Aurel', 'Edlin', 898944068],\n",
       " ['Max', 'Putt', 136795005],\n",
       " ['Lenka', 'Zenner', 648138420],\n",
       " ['Almeda', 'Ketchersid', 492414355],\n",
       " ['Jany', 'Jonke', 930705745],\n",
       " ['Valeria', 'Cominsky', 686681365],\n",
       " ['Milena', 'Spittle', 259013480],\n",
       " ['Gavra', 'Ortwein', 502881203],\n",
       " ['Doe', 'Stasiak', 959872717],\n",
       " ['Saraann', 'Reigstad', 101021610],\n",
       " ['Kalinda', 'Ribble', 701766537],\n",
       " ['Marillin', 'Ekker', 496617004],\n",
       " ['Pooh', 'Ainsley', 712881718],\n",
       " ['Korney', 'Tweten', 176560149],\n",
       " ['Timi', 'Lebert', 196137057],\n",
       " ['Fidelia', 'Zeinert', 394632741],\n",
       " ['Clotilda', 'Maymon', 931656829],\n",
       " ['Veronique', 'Romness', 487361229],\n",
       " ['Alli', 'Grein', 899755072],\n",
       " ['Berenice', 'Torset', 204199196],\n",
       " ['Carlynne', 'Sultaire', 873730642],\n",
       " ['Juditha', 'Dearo', 220477804],\n",
       " ['Jena', 'Killelea', 299270225],\n",
       " ['Karyn', 'Pannunzio', 954980671],\n",
       " ['Alexina', 'Bacigalupi', 610827534],\n",
       " ['Liane', 'Pleiss', 396980485],\n",
       " ['Cissiee', 'Yetzer', 443453679],\n",
       " ['Prisca', 'Frediani', 955912889],\n",
       " ['Chiquita', 'Feagin', 497810803],\n",
       " ['Roseanne', 'Michelin', 932708377],\n",
       " ['Tessy', 'Simoni', 906413383],\n",
       " ['Shir', 'Godden', 158859465],\n",
       " ['Feliza', 'Reynoso', 817323493],\n",
       " ['Hazel', 'Havely', 340663467],\n",
       " ['Philomena', 'Torborg', 611995830],\n",
       " ['Pierrette', 'Currington', 446377508],\n",
       " ['Angela', 'Shillinger', 285071475],\n",
       " ['Anastassia', 'Hinojosa', 611004769],\n",
       " ['Elsy', 'Weith', 980456532],\n",
       " ['Hermione', 'Balay', 241323893],\n",
       " ['Tawsha', 'Metroka', 924766836],\n",
       " ['Gennifer', 'Torra', 731455187],\n",
       " ['Raychel', 'Maus', 189615751],\n",
       " ['Demetris', 'Oleksy', 120352291],\n",
       " ['Georgeanna', 'Cordenas', 612242331],\n",
       " ['Paule', 'Rushen', 265356135],\n",
       " ['Allyson', 'Decurtis', 744556809],\n",
       " ['Adah', 'Edson', 918026674],\n",
       " ['Lilith', 'Besco', 658495747],\n",
       " ['Janel', 'Lopinto', 151562428],\n",
       " ['Elisabeth', 'Mcdougal', 117089802],\n",
       " ['Kaylil', 'Peaden', 598507855],\n",
       " ['Vilhelmina', 'Struss', 901020488],\n",
       " ['Johannah', 'Urquides', 856243535],\n",
       " ['Diana', 'Delarme', 454158577],\n",
       " ['Celka', 'Amphy', 416738958],\n",
       " ['Yasmin', 'Fratzke', 557133215],\n",
       " ['Adrianna', 'Ciersezwski', 911599939],\n",
       " ['Laurice', 'Shauf', 311362465],\n",
       " ['Jaclyn', 'Dubose', 929843251],\n",
       " ['Cora', 'Fales', 645158273],\n",
       " ['Aura', 'Meteer', 380582409],\n",
       " ['Marnie', 'Seremet', 556911304],\n",
       " ['Christan', 'Harriston', 293250673],\n",
       " ['Babbette', 'Haslip', 248832129],\n",
       " ['Gerrilee', 'Imbrenda', 661612085],\n",
       " ['Kara', 'Janosko', 803302097],\n",
       " ['Alene', 'Sheladia', 313809272],\n",
       " ['Gertruda', 'Cumbass', 787607784],\n",
       " ['Vanni', 'Goerlitz', 818341008],\n",
       " ['Marylinda', 'Macartney', 944616786],\n",
       " ['Esma', 'Kryston', 148292949],\n",
       " ['Mag', 'Terlizzi', 348656458],\n",
       " ['Paulie', 'Hudspeth', 526605464],\n",
       " ['Rici', 'Alzate', 223651431],\n",
       " ['Andria', 'Thielemier', 290035890],\n",
       " ['Carmelia', 'Galaz', 249162275],\n",
       " ['Theodosia', 'Venzon', 643920677],\n",
       " ['Ottilie', 'Digaetano', 741430954],\n",
       " ['Cati', 'Melin', 802910856],\n",
       " ['Glory', 'Rimar', 675222566],\n",
       " ['Malanie', 'Urhahn', 313516737],\n",
       " ['Jeanine', 'Kruegel', 994453093],\n",
       " ['Arlee', 'Paolini', 751857052],\n",
       " ['Jessamyn', 'Seidenbecker', 208691166],\n",
       " ['Binny', 'Defiore', 584345862],\n",
       " ['Maren', 'Steinkirchner', 886828278],\n",
       " ['Mariann', 'Igneri', 620310351],\n",
       " ['Caressa', 'Mcdannell', 982338703],\n",
       " ['Juline', 'Ramsay', 246240359],\n",
       " ['Philippe', 'Whitsett', 878705397],\n",
       " ['Jewel', 'Quercioli', 517941151],\n",
       " ['Joellen', 'Faull', 166099921],\n",
       " ['Lacee', 'Grahl', 166631910],\n",
       " ['Arleyne', 'Ruebush', 121011828],\n",
       " ['Dorice', 'Doubet', 585080006],\n",
       " ['Marline', 'Pestone', 280782248]]"
      ]
     },
     "execution_count": 11,
     "metadata": {},
     "output_type": "execute_result"
    }
   ],
   "source": [
    "students"
   ]
  },
  {
   "cell_type": "markdown",
   "id": "0fa0690d",
   "metadata": {},
   "source": [
    "# Generating Random Majors/Minors"
   ]
  },
  {
   "cell_type": "code",
   "execution_count": 12,
   "id": "cf8ea2b6",
   "metadata": {},
   "outputs": [],
   "source": [
    "dept_list = ['Bio', 'Chem', 'CS', 'Eng', 'Math', 'Phys']\n",
    "\n",
    "# dept_list"
   ]
  },
  {
   "cell_type": "code",
   "execution_count": 13,
   "id": "8b76cc6c",
   "metadata": {},
   "outputs": [],
   "source": [
    "# degree_count = []\n",
    "\n",
    "# for i in students:\n",
    "#     degree_count.append([i[2], random.randint(1, 2), random.randint(1, 2)]) # Col1 = sid, Col1 = numMajors (1 or 2), Col2 = numMinors (1 or 2)\n",
    "    \n",
    "# degree_count"
   ]
  },
  {
   "cell_type": "code",
   "execution_count": 14,
   "id": "e0551c5c",
   "metadata": {},
   "outputs": [],
   "source": [
    "# with open('data/degree-count.ob', 'wb') as fp:\n",
    "#     pickle.dump(degree_count, fp)"
   ]
  },
  {
   "cell_type": "code",
   "execution_count": 15,
   "id": "f482bce4",
   "metadata": {},
   "outputs": [],
   "source": [
    "with open('data/degree-count.ob', 'rb') as fp:\n",
    "    degree_count = pickle.load(fp)\n",
    "    \n",
    "# degree_count"
   ]
  },
  {
   "cell_type": "markdown",
   "id": "29d15588",
   "metadata": {},
   "source": [
    "### Majors"
   ]
  },
  {
   "cell_type": "code",
   "execution_count": 16,
   "id": "7c3f0993",
   "metadata": {},
   "outputs": [],
   "source": [
    "# major_cmd_list = []\n",
    "\n",
    "# for i in degree_count:\n",
    "#     sid = i[0]\n",
    "#     numMajors = i[1]\n",
    "#     maj1_index = random.randint(0, 5)\n",
    "#     temp = \"INSERT INTO Majors (sid, dname) VALUES (\" + str(sid) + \", '\" + dept_list[maj1_index] + \"');\"\n",
    "#     major_cmd_list.append(temp)\n",
    "#     print(temp)\n",
    "    \n",
    "#     if numMajors == 2:\n",
    "#         maj2_index = random.randint(0, 5)\n",
    "#         while maj2_index == maj1_index:\n",
    "#             maj2_index = random.randint(0, 5)\n",
    "#         temp = \"INSERT INTO Majors (sid, dname) VALUES (\" + str(sid) + \", '\" + dept_list[maj2_index] + \"');\"\n",
    "#         major_cmd_list.append(temp)\n",
    "#         print(temp)"
   ]
  },
  {
   "cell_type": "code",
   "execution_count": 17,
   "id": "f7f4fc40",
   "metadata": {},
   "outputs": [],
   "source": [
    "# major_cmd_list"
   ]
  },
  {
   "cell_type": "code",
   "execution_count": 18,
   "id": "de67e93d",
   "metadata": {},
   "outputs": [],
   "source": [
    "# with open('data/majors-cmd-list.ob', 'wb') as fp:\n",
    "#     pickle.dump(major_cmd_list, fp)"
   ]
  },
  {
   "cell_type": "code",
   "execution_count": 19,
   "id": "ef6d3300",
   "metadata": {},
   "outputs": [],
   "source": [
    "with open('data/majors-cmd-list.ob', 'rb') as fp:\n",
    "    major_cmd_list = pickle.load(fp)\n",
    "    \n",
    "# major_cmd_list"
   ]
  },
  {
   "cell_type": "code",
   "execution_count": 20,
   "id": "947c3028",
   "metadata": {},
   "outputs": [],
   "source": [
    "sid = int(re.findall(\"\\d+\", major_cmd_list[0])[0])\n",
    "major = re.findall(\"'([^']*)'\", major_cmd_list[0])\n",
    "\n",
    "major_list = [[sid, major]]\n",
    "counter = 1\n",
    "\n",
    "for i in range (1, len(major_cmd_list)):\n",
    "    sid = int(re.findall(\"\\d+\", major_cmd_list[i])[0])\n",
    "    major = re.findall(\"'([^']*)'\", major_cmd_list[i])\n",
    "    \n",
    "    if sid == major_list[counter - 1][0]:\n",
    "        major_list[counter - 1][1].append(major[0])\n",
    "    else:\n",
    "        major_list.append([sid, major])\n",
    "        counter += 1"
   ]
  },
  {
   "cell_type": "code",
   "execution_count": 21,
   "id": "69f04e84",
   "metadata": {},
   "outputs": [],
   "source": [
    "major_dict = {}\n",
    "\n",
    "for i in major_list:\n",
    "    major_dict[i[0]] = i[1]\n",
    "    \n",
    "# major_dict"
   ]
  },
  {
   "cell_type": "markdown",
   "id": "f5f1fc2d",
   "metadata": {},
   "source": [
    "### Minors"
   ]
  },
  {
   "cell_type": "code",
   "execution_count": 22,
   "id": "8235a96b",
   "metadata": {},
   "outputs": [],
   "source": [
    "# minor_cmd_list = []\n",
    "\n",
    "# for i in degree_count:\n",
    "#     sid = i[0]\n",
    "#     numMinors = i[2]\n",
    "#     min1_index = random.randint(0, 5)\n",
    "    \n",
    "#     while dept_list[min1_index] in major_dict[sid]: # Student cannot have the same Major and Minor\n",
    "#         min1_index = random.randint(0, 5)\n",
    "        \n",
    "#     temp = \"INSERT INTO Minors (sid, dname) VALUES (\" + str(sid) + \", '\" + dept_list[min1_index] + \"');\"\n",
    "#     minor_cmd_list.append(temp)\n",
    "#     print(temp)\n",
    "    \n",
    "#     if numMinors == 2:\n",
    "#         min2_index = random.randint(0, 5)\n",
    "#         while (dept_list[min2_index] in major_dict[sid]) or (min2_index == min1_index):\n",
    "#             min2_index = random.randint(0, 5)\n",
    "#         temp = \"INSERT INTO Minors (sid, dname) VALUES (\" + str(sid) + \", '\" + dept_list[min2_index] + \"');\"\n",
    "#         minor_cmd_list.append(temp)\n",
    "#         print(temp)"
   ]
  },
  {
   "cell_type": "code",
   "execution_count": 23,
   "id": "a6981df7",
   "metadata": {},
   "outputs": [],
   "source": [
    "# minor_cmd_list"
   ]
  },
  {
   "cell_type": "code",
   "execution_count": 24,
   "id": "53f22e74",
   "metadata": {},
   "outputs": [],
   "source": [
    "# with open('data/minors-cmd-list.ob', 'wb') as fp:\n",
    "#     pickle.dump(minor_cmd_list, fp)"
   ]
  },
  {
   "cell_type": "code",
   "execution_count": 25,
   "id": "c9a70cb2",
   "metadata": {},
   "outputs": [],
   "source": [
    "with open('data/minors-cmd-list.ob', 'rb') as fp:\n",
    "    minor_cmd_list = pickle.load(fp)\n",
    "    \n",
    "# minor_cmd_list"
   ]
  },
  {
   "cell_type": "markdown",
   "id": "e857151d",
   "metadata": {},
   "source": [
    "# Generating List of Courses"
   ]
  },
  {
   "cell_type": "markdown",
   "id": "c84f0461",
   "metadata": {},
   "source": [
    "### Scraping Rutgers Courses"
   ]
  },
  {
   "cell_type": "code",
   "execution_count": 26,
   "id": "28ea82f4",
   "metadata": {},
   "outputs": [],
   "source": [
    "# from bs4 import BeautifulSoup as soup\n",
    "# import requests"
   ]
  },
  {
   "cell_type": "code",
   "execution_count": 27,
   "id": "3543e4a6",
   "metadata": {},
   "outputs": [],
   "source": [
    "courses = []"
   ]
  },
  {
   "cell_type": "markdown",
   "id": "f7252e48",
   "metadata": {},
   "source": [
    "### Bio "
   ]
  },
  {
   "cell_type": "code",
   "execution_count": 28,
   "id": "eb2fb105",
   "metadata": {},
   "outputs": [],
   "source": [
    "# url = \"https://biology.camden.rutgers.edu/undergraduate-program/undergraduate-course-descriptions/\"\n",
    "# result = requests.get(url).text\n",
    "# doc = soup(result, \"html.parser\")"
   ]
  },
  {
   "cell_type": "code",
   "execution_count": 29,
   "id": "fac58510",
   "metadata": {},
   "outputs": [],
   "source": [
    "# course_table = doc.find(\"div\", class_=\"article-content page-content\")"
   ]
  },
  {
   "cell_type": "code",
   "execution_count": 30,
   "id": "fe203ed1",
   "metadata": {},
   "outputs": [],
   "source": [
    "# p_tags = course_table.find_all('p')\n",
    "# bio_courses = []\n",
    "\n",
    "# for p in p_tags:\n",
    "#     strong_link = p.find('strong')\n",
    "#     if strong_link != None:\n",
    "#         course_name = strong_link.string\n",
    "#         bio_courses.append(course_name)\n",
    "        \n",
    "# bio_courses = bio_courses[1:]\n",
    "# bio_courses = list(filter(lambda course: (course is not None) and ('\\xa0' not in course) and (len(course) > 10) and (',' not in course), bio_courses))\n",
    "\n",
    "# for i in range(len(bio_courses)):\n",
    "#     bio_courses[i] = \"01:119\" + bio_courses[i][6:]\n",
    "\n",
    "# bio_courses = [*set(bio_courses)]\n",
    "# # bio_courses"
   ]
  },
  {
   "cell_type": "markdown",
   "id": "c6712dbb",
   "metadata": {},
   "source": [
    "###  Chem"
   ]
  },
  {
   "cell_type": "code",
   "execution_count": 31,
   "id": "40eae741",
   "metadata": {},
   "outputs": [],
   "source": [
    "# url = \"https://chem.rutgers.edu/academics/undergraduate-program/undergraduate-course-descriptions\"\n",
    "# result = requests.get(url).text\n",
    "# doc = soup(result, \"html.parser\")"
   ]
  },
  {
   "cell_type": "code",
   "execution_count": 32,
   "id": "f67ae5e6",
   "metadata": {},
   "outputs": [],
   "source": [
    "# course_table = doc.find(\"div\", itemprop=\"articleBody\")"
   ]
  },
  {
   "cell_type": "code",
   "execution_count": 33,
   "id": "f5a6fe41",
   "metadata": {},
   "outputs": [],
   "source": [
    "# p_tags = course_table.find_all('p')\n",
    "# chem_courses = []\n",
    "\n",
    "# for p in p_tags:\n",
    "#     course_code = p.find('b', class_='red-text')\n",
    "#     course_name = p.find('span', class_='red-text')\n",
    "#     if course_code != None and course_name != None:\n",
    "#         course_code = course_code.string\n",
    "#         course_name = course_name.string\n",
    "#         if course_code != None and course_name != None and len(course_name) > 2:\n",
    "#             course = str(course_code) + str(course_name)\n",
    "#             course = course.replace(u'\\xa0', u' ')\n",
    "#             course = course.replace(u'  ', u' ')\n",
    "#             chem_courses.append(course)\n",
    "            \n",
    "# for i in range(len(chem_courses)):\n",
    "#     par_index = chem_courses[i].find('(')\n",
    "#     if par_index != -1:\n",
    "#         chem_courses[i] = chem_courses[i][:par_index - 1]\n",
    "\n",
    "# chem_courses = [*set(chem_courses)]\n",
    "# # chem_courses"
   ]
  },
  {
   "cell_type": "markdown",
   "id": "b6a12bb1",
   "metadata": {},
   "source": [
    "### CS"
   ]
  },
  {
   "cell_type": "code",
   "execution_count": 34,
   "id": "7a691d3a",
   "metadata": {},
   "outputs": [],
   "source": [
    "# url = \"https://www.cs.rutgers.edu/academics/undergraduate/course-synopses\"\n",
    "# result = requests.get(url).text\n",
    "# doc = soup(result, \"html.parser\")"
   ]
  },
  {
   "cell_type": "code",
   "execution_count": 35,
   "id": "66ac0eba",
   "metadata": {},
   "outputs": [],
   "source": [
    "# course_table = doc.find(\"div\", class_=\"latestnews-items\")"
   ]
  },
  {
   "cell_type": "code",
   "execution_count": 36,
   "id": "6ef08d55",
   "metadata": {},
   "outputs": [],
   "source": [
    "# div_tags = course_table.find_all('div')\n",
    "# cs_courses = []\n",
    "\n",
    "# for div in div_tags:\n",
    "#     a_link = div.find('a', class_='hasTooltip')\n",
    "#     if a_link != None:\n",
    "#         course = a_link.find(\"span\").string\n",
    "#         course = course.replace(u' - ', u' ')\n",
    "#         cs_courses.append(course)\n",
    "        \n",
    "# cs_courses = [*set(cs_courses)]\n",
    "# # cs_courses"
   ]
  },
  {
   "cell_type": "markdown",
   "id": "3c5711e6",
   "metadata": {},
   "source": [
    "### Eng"
   ]
  },
  {
   "cell_type": "code",
   "execution_count": 37,
   "id": "0adbdc9f",
   "metadata": {},
   "outputs": [],
   "source": [
    "# url = \"https://english.rutgers.edu/academics/undergraduate-91/undergraduate-course-descriptions/fall-2022/all-course-descriptions-fall-2022.html\"\n",
    "# result = requests.get(url).text\n",
    "# doc = soup(result, \"html.parser\")"
   ]
  },
  {
   "cell_type": "code",
   "execution_count": 38,
   "id": "9c0b16e5",
   "metadata": {},
   "outputs": [],
   "source": [
    "# course_table = doc.find(\"div\", class_=\"latestnews-items\")"
   ]
  },
  {
   "cell_type": "code",
   "execution_count": 39,
   "id": "cb33970f",
   "metadata": {},
   "outputs": [],
   "source": [
    "# div_tags = course_table.find_all('div')\n",
    "# eng_courses = []\n",
    "\n",
    "# for div in div_tags:\n",
    "#     a_link = div.find('a', class_='hasTooltip')\n",
    "#     if a_link != None:\n",
    "#         course_name = a_link.find(\"span\").string\n",
    "#         eng_courses.append(course_name)\n",
    "        \n",
    "# for i in range(len(eng_courses)):\n",
    "#     eng_courses[i] = \"01:\" + eng_courses[i]\n",
    "        \n",
    "# eng_courses = [*set(eng_courses)]\n",
    "# # eng_courses"
   ]
  },
  {
   "cell_type": "markdown",
   "id": "fd25b7dc",
   "metadata": {},
   "source": [
    "### Math "
   ]
  },
  {
   "cell_type": "code",
   "execution_count": 40,
   "id": "075b58d2",
   "metadata": {},
   "outputs": [],
   "source": [
    "# url = \"https://www.math.rutgers.edu/academics/undergraduate/courses\"\n",
    "# result = requests.get(url).text\n",
    "# doc = soup(result, \"html.parser\")"
   ]
  },
  {
   "cell_type": "code",
   "execution_count": 41,
   "id": "478fadf5",
   "metadata": {},
   "outputs": [],
   "source": [
    "# course_table = doc.find(\"table\", class_=\"category\")"
   ]
  },
  {
   "cell_type": "code",
   "execution_count": 42,
   "id": "c5f469f0",
   "metadata": {},
   "outputs": [],
   "source": [
    "# tr_tags = course_table.find_all('tr')\n",
    "# math_courses = []\n",
    "\n",
    "# for tr in tr_tags:\n",
    "#     td_link = tr.find('td', class_='list-title')\n",
    "#     if td_link != None:\n",
    "#         course = td_link.find(\"a\").string\n",
    "#         course = course.replace(u'\\n', u'')\n",
    "#         course = course.replace(u'\\t', u'')\n",
    "#         course = course.replace(u' - ', u' ')\n",
    "#         math_courses.append(course)\n",
    "\n",
    "# math_courses = math_courses[:-2]\n",
    "\n",
    "# math_courses = [*set(math_courses)]\n",
    "# # math_courses"
   ]
  },
  {
   "cell_type": "markdown",
   "id": "07a69bca",
   "metadata": {},
   "source": [
    "### Phys "
   ]
  },
  {
   "cell_type": "code",
   "execution_count": 43,
   "id": "bf772ce6",
   "metadata": {},
   "outputs": [],
   "source": [
    "# url = \"https://physics.camden.rutgers.edu/physics-courses/\"\n",
    "# result = requests.get(url).text\n",
    "# doc = soup(result, \"html.parser\")"
   ]
  },
  {
   "cell_type": "code",
   "execution_count": 44,
   "id": "72347cd4",
   "metadata": {},
   "outputs": [],
   "source": [
    "# course_table = doc.find(\"div\", class_=\"article-content page-content\")"
   ]
  },
  {
   "cell_type": "code",
   "execution_count": 45,
   "id": "70ebf453",
   "metadata": {},
   "outputs": [],
   "source": [
    "# p_tags = course_table.find_all('p')\n",
    "# phys_courses = []\n",
    "\n",
    "# for p in p_tags:\n",
    "#     strong_link = p.find('strong')\n",
    "#     if strong_link != None:\n",
    "#         course = strong_link.string\n",
    "#         if course != None and course[0] == '5':\n",
    "#             course = course.replace(u'\\xa0', u' ')\n",
    "#             phys_courses.append(course)\n",
    "        \n",
    "# phys_courses = phys_courses[1:]\n",
    "# phys_courses = list(filter(lambda course: (len(course) > 10) and (',' not in course), phys_courses))\n",
    "\n",
    "# for i in range(len(phys_courses)):\n",
    "#     par_index = phys_courses[i].find('(')\n",
    "#     if par_index != -1:\n",
    "#         phys_courses[i] = phys_courses[i][:par_index - 1]\n",
    "        \n",
    "# for i in range(len(phys_courses)):\n",
    "#     phys_courses[i] = \"01\" + phys_courses[i][2:]\n",
    "\n",
    "# phys_courses = [*set(phys_courses)]\n",
    "# # phys_courses"
   ]
  },
  {
   "cell_type": "markdown",
   "id": "c7a8a676",
   "metadata": {},
   "source": [
    "### Verifying Data"
   ]
  },
  {
   "cell_type": "code",
   "execution_count": 46,
   "id": "7f4fa57e",
   "metadata": {},
   "outputs": [],
   "source": [
    "# bio_courses"
   ]
  },
  {
   "cell_type": "code",
   "execution_count": 47,
   "id": "7152d1d3",
   "metadata": {},
   "outputs": [],
   "source": [
    "# chem_courses"
   ]
  },
  {
   "cell_type": "code",
   "execution_count": 48,
   "id": "33fc8fe4",
   "metadata": {},
   "outputs": [],
   "source": [
    "# cs_courses"
   ]
  },
  {
   "cell_type": "code",
   "execution_count": 49,
   "id": "831d2c78",
   "metadata": {},
   "outputs": [],
   "source": [
    "# eng_courses"
   ]
  },
  {
   "cell_type": "code",
   "execution_count": 50,
   "id": "05443c92",
   "metadata": {},
   "outputs": [],
   "source": [
    "# math_courses"
   ]
  },
  {
   "cell_type": "code",
   "execution_count": 51,
   "id": "0d2bf68e",
   "metadata": {},
   "outputs": [],
   "source": [
    "# phys_courses"
   ]
  },
  {
   "cell_type": "markdown",
   "id": "4410fbd3",
   "metadata": {},
   "source": [
    "### Creating Final List of Courses"
   ]
  },
  {
   "cell_type": "code",
   "execution_count": 52,
   "id": "cf34fd5b",
   "metadata": {},
   "outputs": [],
   "source": [
    "# courses.extend(bio_courses)\n",
    "# courses.extend(chem_courses)\n",
    "# courses.extend(cs_courses)\n",
    "# courses.extend(eng_courses)\n",
    "# courses.extend(math_courses)\n",
    "# courses.extend(phys_courses)"
   ]
  },
  {
   "cell_type": "code",
   "execution_count": 53,
   "id": "9df86024",
   "metadata": {},
   "outputs": [],
   "source": [
    "# courses = list(filter(lambda course: (len(course) <= 50), courses))\n",
    "\n",
    "# courses = [*set(courses)]\n",
    "\n",
    "# # print(len(courses))\n",
    "# # courses"
   ]
  },
  {
   "cell_type": "code",
   "execution_count": 54,
   "id": "28d755a3",
   "metadata": {},
   "outputs": [],
   "source": [
    "# courses_list = []\n",
    "\n",
    "# for course in courses:\n",
    "#     temp = [course, random.randint(3, 4)]\n",
    "#     courses_list.append(temp)\n",
    "    \n",
    "# courses_list"
   ]
  },
  {
   "cell_type": "code",
   "execution_count": 55,
   "id": "6f137d2b",
   "metadata": {},
   "outputs": [],
   "source": [
    "# with open('data/course-names.ob', 'wb') as fp:\n",
    "#     pickle.dump(courses_list, fp)"
   ]
  },
  {
   "cell_type": "code",
   "execution_count": 56,
   "id": "1a1592f4",
   "metadata": {},
   "outputs": [],
   "source": [
    "with open('data/course-names.ob', 'rb') as fp:\n",
    "    courses_list = pickle.load(fp)\n",
    "    \n",
    "# courses_list"
   ]
  },
  {
   "cell_type": "code",
   "execution_count": 57,
   "id": "28a4a6e4",
   "metadata": {},
   "outputs": [],
   "source": [
    "# classes_cmd_list = []\n",
    "\n",
    "# for i in courses_list:\n",
    "#     name = i[0]\n",
    "#     creds = i[1]\n",
    "#     temp = \"INSERT INTO Classes (name, credits) VALUES ('\" + name + \"', \" + str(creds) + \");\"\n",
    "#     print(temp)\n",
    "#     classes_cmd_list.append(temp)"
   ]
  },
  {
   "cell_type": "code",
   "execution_count": 58,
   "id": "9c6979f9",
   "metadata": {},
   "outputs": [],
   "source": [
    "# with open('data/classes-cmd-list.ob', 'wb') as fp:\n",
    "#     pickle.dump(classes_cmd_list, fp)"
   ]
  },
  {
   "cell_type": "code",
   "execution_count": 59,
   "id": "17d5e362",
   "metadata": {},
   "outputs": [],
   "source": [
    "with open('data/classes-cmd-list.ob', 'rb') as fp:\n",
    "    classes_cmd_list = pickle.load(fp)\n",
    "    \n",
    "# classes_cmd_list"
   ]
  },
  {
   "cell_type": "markdown",
   "id": "54db1bca",
   "metadata": {},
   "source": [
    "# Allocating Random Courses to Students"
   ]
  },
  {
   "cell_type": "code",
   "execution_count": null,
   "id": "cfca1372",
   "metadata": {},
   "outputs": [],
   "source": []
  }
 ],
 "metadata": {
  "kernelspec": {
   "display_name": "Python 3 (ipykernel)",
   "language": "python",
   "name": "python3"
  },
  "language_info": {
   "codemirror_mode": {
    "name": "ipython",
    "version": 3
   },
   "file_extension": ".py",
   "mimetype": "text/x-python",
   "name": "python",
   "nbconvert_exporter": "python",
   "pygments_lexer": "ipython3",
   "version": "3.9.13"
  }
 },
 "nbformat": 4,
 "nbformat_minor": 5
}
