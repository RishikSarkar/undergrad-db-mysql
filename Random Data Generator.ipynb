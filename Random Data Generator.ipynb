{
 "cells": [
  {
   "cell_type": "markdown",
   "id": "7e30ee3f",
   "metadata": {},
   "source": [
    "# Generating Random Students"
   ]
  },
  {
   "cell_type": "code",
   "execution_count": 1,
   "id": "404d866e",
   "metadata": {},
   "outputs": [],
   "source": [
    "import pickle"
   ]
  },
  {
   "cell_type": "code",
   "execution_count": 2,
   "id": "41bdfb96",
   "metadata": {},
   "outputs": [],
   "source": [
    "import random"
   ]
  },
  {
   "cell_type": "code",
   "execution_count": 3,
   "id": "2db9e3b0",
   "metadata": {},
   "outputs": [],
   "source": [
    "import re"
   ]
  },
  {
   "cell_type": "code",
   "execution_count": 4,
   "id": "982e2a82",
   "metadata": {},
   "outputs": [],
   "source": [
    "# with open('data/students-cmd-list.ob', 'rb') as fp:\n",
    "#     temp_list = pickle.load(fp)"
   ]
  },
  {
   "cell_type": "code",
   "execution_count": 5,
   "id": "8bf43e72",
   "metadata": {},
   "outputs": [],
   "source": [
    "# firstname = open('first-names.txt').read().splitlines()\n",
    "# lastname = open('last-names.txt').read().splitlines()\n",
    "\n",
    "# print(random.choice(firstname))\n",
    "# print(random.choice(lastname).title())"
   ]
  },
  {
   "cell_type": "code",
   "execution_count": 6,
   "id": "39143697",
   "metadata": {},
   "outputs": [],
   "source": [
    "# names = []\n",
    "# ids = []\n",
    "\n",
    "# i = 0\n",
    "# for i in range(100):\n",
    "#     temp = []\n",
    "#     first = random.choice(firstname)\n",
    "#     last = random.choice(lastname).title()\n",
    "    \n",
    "#     sid = random.randint(100000000, 999999999)\n",
    "    \n",
    "#     while sid in ids:\n",
    "#         sid = random.randint(100000000, 999999999)\n",
    "        \n",
    "#     temp = [first, last, sid]\n",
    "#     ids.append(sid)\n",
    "#     names.append(temp)\n",
    "\n",
    "# print(names)"
   ]
  },
  {
   "cell_type": "code",
   "execution_count": 7,
   "id": "fcb789ad",
   "metadata": {},
   "outputs": [],
   "source": [
    "# student_commands = []\n",
    "\n",
    "# for i in names:\n",
    "#     temp = \"INSERT INTO Students (first_name, last_name, id) VALUES ('\" + i[0] + \"', '\" + i[1] + \"', \" + str(i[2]) + \");\"\n",
    "#     student_commands.append(temp)\n",
    "#     print(temp)"
   ]
  },
  {
   "cell_type": "code",
   "execution_count": 8,
   "id": "0dfe9f1d",
   "metadata": {},
   "outputs": [],
   "source": [
    "# if len(temp_list) == 0:\n",
    "#     with open('data/students-cmd-list.ob', 'wb') as fp:\n",
    "#         pickle.dump(student_commands, fp)"
   ]
  },
  {
   "cell_type": "code",
   "execution_count": 9,
   "id": "485a8b4a",
   "metadata": {},
   "outputs": [],
   "source": [
    "with open('data/students-cmd-list.ob', 'rb') as fp:\n",
    "    student_cmd_list = pickle.load(fp)"
   ]
  },
  {
   "cell_type": "code",
   "execution_count": 87,
   "id": "a59dc6df",
   "metadata": {},
   "outputs": [],
   "source": [
    "# students = []\n",
    "\n",
    "# for i in student_cmd_list:\n",
    "#     # print(i)\n",
    "#     temp = re.findall(\"'([^']*)'\", i)\n",
    "#     temp.append(int(re.findall(\"\\d+\", i)[0]))\n",
    "#     students.append(temp)"
   ]
  },
  {
   "cell_type": "code",
   "execution_count": 11,
   "id": "503166b3",
   "metadata": {},
   "outputs": [],
   "source": [
    "# students"
   ]
  },
  {
   "cell_type": "markdown",
   "id": "0fa0690d",
   "metadata": {},
   "source": [
    "# Generating Random Majors/Minors"
   ]
  },
  {
   "cell_type": "code",
   "execution_count": 12,
   "id": "cf8ea2b6",
   "metadata": {},
   "outputs": [],
   "source": [
    "# dept_list = ['Bio', 'Chem', 'CS', 'Eng', 'Math', 'Phys']\n",
    "\n",
    "# dept_list"
   ]
  },
  {
   "cell_type": "code",
   "execution_count": 13,
   "id": "8b76cc6c",
   "metadata": {},
   "outputs": [],
   "source": [
    "# degree_count = []\n",
    "\n",
    "# for i in students:\n",
    "#     degree_count.append([i[2], random.randint(1, 2), random.randint(1, 2)]) # Col1 = sid, Col1 = numMajors (1 or 2), Col2 = numMinors (1 or 2)\n",
    "    \n",
    "# degree_count"
   ]
  },
  {
   "cell_type": "code",
   "execution_count": 14,
   "id": "e0551c5c",
   "metadata": {},
   "outputs": [],
   "source": [
    "# with open('data/degree-count.ob', 'wb') as fp:\n",
    "#     pickle.dump(degree_count, fp)"
   ]
  },
  {
   "cell_type": "code",
   "execution_count": 15,
   "id": "f482bce4",
   "metadata": {},
   "outputs": [],
   "source": [
    "with open('data/degree-count.ob', 'rb') as fp:\n",
    "    degree_count = pickle.load(fp)\n",
    "    \n",
    "# degree_count"
   ]
  },
  {
   "cell_type": "markdown",
   "id": "29d15588",
   "metadata": {},
   "source": [
    "### Majors"
   ]
  },
  {
   "cell_type": "code",
   "execution_count": 16,
   "id": "7c3f0993",
   "metadata": {},
   "outputs": [],
   "source": [
    "# major_cmd_list = []\n",
    "\n",
    "# for i in degree_count:\n",
    "#     sid = i[0]\n",
    "#     numMajors = i[1]\n",
    "#     maj1_index = random.randint(0, 5)\n",
    "#     temp = \"INSERT INTO Majors (sid, dname) VALUES (\" + str(sid) + \", '\" + dept_list[maj1_index] + \"');\"\n",
    "#     major_cmd_list.append(temp)\n",
    "#     print(temp)\n",
    "    \n",
    "#     if numMajors == 2:\n",
    "#         maj2_index = random.randint(0, 5)\n",
    "#         while maj2_index == maj1_index:\n",
    "#             maj2_index = random.randint(0, 5)\n",
    "#         temp = \"INSERT INTO Majors (sid, dname) VALUES (\" + str(sid) + \", '\" + dept_list[maj2_index] + \"');\"\n",
    "#         major_cmd_list.append(temp)\n",
    "#         print(temp)"
   ]
  },
  {
   "cell_type": "code",
   "execution_count": 17,
   "id": "f7f4fc40",
   "metadata": {},
   "outputs": [],
   "source": [
    "# major_cmd_list"
   ]
  },
  {
   "cell_type": "code",
   "execution_count": 18,
   "id": "de67e93d",
   "metadata": {},
   "outputs": [],
   "source": [
    "# with open('data/majors-cmd-list.ob', 'wb') as fp:\n",
    "#     pickle.dump(major_cmd_list, fp)"
   ]
  },
  {
   "cell_type": "code",
   "execution_count": 19,
   "id": "ef6d3300",
   "metadata": {},
   "outputs": [],
   "source": [
    "with open('data/majors-cmd-list.ob', 'rb') as fp:\n",
    "    major_cmd_list = pickle.load(fp)\n",
    "    \n",
    "# major_cmd_list"
   ]
  },
  {
   "cell_type": "code",
   "execution_count": 20,
   "id": "947c3028",
   "metadata": {},
   "outputs": [],
   "source": [
    "# sid = int(re.findall(\"\\d+\", major_cmd_list[0])[0])\n",
    "# major = re.findall(\"'([^']*)'\", major_cmd_list[0])\n",
    "\n",
    "# major_list = [[sid, major]]\n",
    "# counter = 1\n",
    "\n",
    "# for i in range (1, len(major_cmd_list)):\n",
    "#     sid = int(re.findall(\"\\d+\", major_cmd_list[i])[0])\n",
    "#     major = re.findall(\"'([^']*)'\", major_cmd_list[i])\n",
    "    \n",
    "#     if sid == major_list[counter - 1][0]:\n",
    "#         major_list[counter - 1][1].append(major[0])\n",
    "#     else:\n",
    "#         major_list.append([sid, major])\n",
    "#         counter += 1"
   ]
  },
  {
   "cell_type": "code",
   "execution_count": 21,
   "id": "69f04e84",
   "metadata": {},
   "outputs": [],
   "source": [
    "# major_dict = {}\n",
    "\n",
    "# for i in major_list:\n",
    "#     major_dict[i[0]] = i[1]\n",
    "    \n",
    "# # major_dict"
   ]
  },
  {
   "cell_type": "markdown",
   "id": "f5f1fc2d",
   "metadata": {},
   "source": [
    "### Minors"
   ]
  },
  {
   "cell_type": "code",
   "execution_count": 22,
   "id": "8235a96b",
   "metadata": {},
   "outputs": [],
   "source": [
    "# minor_cmd_list = []\n",
    "\n",
    "# for i in degree_count:\n",
    "#     sid = i[0]\n",
    "#     numMinors = i[2]\n",
    "#     min1_index = random.randint(0, 5)\n",
    "    \n",
    "#     while dept_list[min1_index] in major_dict[sid]: # Student cannot have the same Major and Minor\n",
    "#         min1_index = random.randint(0, 5)\n",
    "        \n",
    "#     temp = \"INSERT INTO Minors (sid, dname) VALUES (\" + str(sid) + \", '\" + dept_list[min1_index] + \"');\"\n",
    "#     minor_cmd_list.append(temp)\n",
    "#     print(temp)\n",
    "    \n",
    "#     if numMinors == 2:\n",
    "#         min2_index = random.randint(0, 5)\n",
    "#         while (dept_list[min2_index] in major_dict[sid]) or (min2_index == min1_index):\n",
    "#             min2_index = random.randint(0, 5)\n",
    "#         temp = \"INSERT INTO Minors (sid, dname) VALUES (\" + str(sid) + \", '\" + dept_list[min2_index] + \"');\"\n",
    "#         minor_cmd_list.append(temp)\n",
    "#         print(temp)"
   ]
  },
  {
   "cell_type": "code",
   "execution_count": 23,
   "id": "a6981df7",
   "metadata": {},
   "outputs": [],
   "source": [
    "# minor_cmd_list"
   ]
  },
  {
   "cell_type": "code",
   "execution_count": 24,
   "id": "53f22e74",
   "metadata": {},
   "outputs": [],
   "source": [
    "# with open('data/minors-cmd-list.ob', 'wb') as fp:\n",
    "#     pickle.dump(minor_cmd_list, fp)"
   ]
  },
  {
   "cell_type": "code",
   "execution_count": 25,
   "id": "c9a70cb2",
   "metadata": {},
   "outputs": [],
   "source": [
    "with open('data/minors-cmd-list.ob', 'rb') as fp:\n",
    "    minor_cmd_list = pickle.load(fp)\n",
    "    \n",
    "# minor_cmd_list"
   ]
  },
  {
   "cell_type": "markdown",
   "id": "e857151d",
   "metadata": {},
   "source": [
    "# Generating List of Courses"
   ]
  },
  {
   "cell_type": "markdown",
   "id": "c84f0461",
   "metadata": {},
   "source": [
    "### Scraping Rutgers Courses"
   ]
  },
  {
   "cell_type": "code",
   "execution_count": 26,
   "id": "28ea82f4",
   "metadata": {},
   "outputs": [],
   "source": [
    "# from bs4 import BeautifulSoup as soup\n",
    "# import requests"
   ]
  },
  {
   "cell_type": "code",
   "execution_count": 27,
   "id": "3543e4a6",
   "metadata": {},
   "outputs": [],
   "source": [
    "courses = []"
   ]
  },
  {
   "cell_type": "markdown",
   "id": "f7252e48",
   "metadata": {},
   "source": [
    "### Bio "
   ]
  },
  {
   "cell_type": "code",
   "execution_count": 28,
   "id": "eb2fb105",
   "metadata": {},
   "outputs": [],
   "source": [
    "# url = \"https://biology.camden.rutgers.edu/undergraduate-program/undergraduate-course-descriptions/\"\n",
    "# result = requests.get(url).text\n",
    "# doc = soup(result, \"html.parser\")"
   ]
  },
  {
   "cell_type": "code",
   "execution_count": 29,
   "id": "fac58510",
   "metadata": {},
   "outputs": [],
   "source": [
    "# course_table = doc.find(\"div\", class_=\"article-content page-content\")"
   ]
  },
  {
   "cell_type": "code",
   "execution_count": 30,
   "id": "fe203ed1",
   "metadata": {},
   "outputs": [],
   "source": [
    "# p_tags = course_table.find_all('p')\n",
    "# bio_courses = []\n",
    "\n",
    "# for p in p_tags:\n",
    "#     strong_link = p.find('strong')\n",
    "#     if strong_link != None:\n",
    "#         course_name = strong_link.string\n",
    "#         bio_courses.append(course_name)\n",
    "        \n",
    "# bio_courses = bio_courses[1:]\n",
    "# bio_courses = list(filter(lambda course: (course is not None) and ('\\xa0' not in course) and (len(course) > 10) and (',' not in course), bio_courses))\n",
    "\n",
    "# for i in range(len(bio_courses)):\n",
    "#     bio_courses[i] = \"01:119\" + bio_courses[i][6:]\n",
    "\n",
    "# bio_courses = [*set(bio_courses)]\n",
    "# # bio_courses"
   ]
  },
  {
   "cell_type": "markdown",
   "id": "c6712dbb",
   "metadata": {},
   "source": [
    "###  Chem"
   ]
  },
  {
   "cell_type": "code",
   "execution_count": 31,
   "id": "40eae741",
   "metadata": {},
   "outputs": [],
   "source": [
    "# url = \"https://chem.rutgers.edu/academics/undergraduate-program/undergraduate-course-descriptions\"\n",
    "# result = requests.get(url).text\n",
    "# doc = soup(result, \"html.parser\")"
   ]
  },
  {
   "cell_type": "code",
   "execution_count": 32,
   "id": "f67ae5e6",
   "metadata": {},
   "outputs": [],
   "source": [
    "# course_table = doc.find(\"div\", itemprop=\"articleBody\")"
   ]
  },
  {
   "cell_type": "code",
   "execution_count": 33,
   "id": "f5a6fe41",
   "metadata": {},
   "outputs": [],
   "source": [
    "# p_tags = course_table.find_all('p')\n",
    "# chem_courses = []\n",
    "\n",
    "# for p in p_tags:\n",
    "#     course_code = p.find('b', class_='red-text')\n",
    "#     course_name = p.find('span', class_='red-text')\n",
    "#     if course_code != None and course_name != None:\n",
    "#         course_code = course_code.string\n",
    "#         course_name = course_name.string\n",
    "#         if course_code != None and course_name != None and len(course_name) > 2:\n",
    "#             course = str(course_code) + str(course_name)\n",
    "#             course = course.replace(u'\\xa0', u' ')\n",
    "#             course = course.replace(u'  ', u' ')\n",
    "#             chem_courses.append(course)\n",
    "            \n",
    "# for i in range(len(chem_courses)):\n",
    "#     par_index = chem_courses[i].find('(')\n",
    "#     if par_index != -1:\n",
    "#         chem_courses[i] = chem_courses[i][:par_index - 1]\n",
    "\n",
    "# chem_courses = [*set(chem_courses)]\n",
    "# # chem_courses"
   ]
  },
  {
   "cell_type": "markdown",
   "id": "b6a12bb1",
   "metadata": {},
   "source": [
    "### CS"
   ]
  },
  {
   "cell_type": "code",
   "execution_count": 34,
   "id": "7a691d3a",
   "metadata": {},
   "outputs": [],
   "source": [
    "# url = \"https://www.cs.rutgers.edu/academics/undergraduate/course-synopses\"\n",
    "# result = requests.get(url).text\n",
    "# doc = soup(result, \"html.parser\")"
   ]
  },
  {
   "cell_type": "code",
   "execution_count": 35,
   "id": "66ac0eba",
   "metadata": {},
   "outputs": [],
   "source": [
    "# course_table = doc.find(\"div\", class_=\"latestnews-items\")"
   ]
  },
  {
   "cell_type": "code",
   "execution_count": 36,
   "id": "6ef08d55",
   "metadata": {},
   "outputs": [],
   "source": [
    "# div_tags = course_table.find_all('div')\n",
    "# cs_courses = []\n",
    "\n",
    "# for div in div_tags:\n",
    "#     a_link = div.find('a', class_='hasTooltip')\n",
    "#     if a_link != None:\n",
    "#         course = a_link.find(\"span\").string\n",
    "#         course = course.replace(u' - ', u' ')\n",
    "#         cs_courses.append(course)\n",
    "        \n",
    "# cs_courses = [*set(cs_courses)]\n",
    "# # cs_courses"
   ]
  },
  {
   "cell_type": "markdown",
   "id": "3c5711e6",
   "metadata": {},
   "source": [
    "### Eng"
   ]
  },
  {
   "cell_type": "code",
   "execution_count": 37,
   "id": "0adbdc9f",
   "metadata": {},
   "outputs": [],
   "source": [
    "# url = \"https://english.rutgers.edu/academics/undergraduate-91/undergraduate-course-descriptions/fall-2022/all-course-descriptions-fall-2022.html\"\n",
    "# result = requests.get(url).text\n",
    "# doc = soup(result, \"html.parser\")"
   ]
  },
  {
   "cell_type": "code",
   "execution_count": 38,
   "id": "9c0b16e5",
   "metadata": {},
   "outputs": [],
   "source": [
    "# course_table = doc.find(\"div\", class_=\"latestnews-items\")"
   ]
  },
  {
   "cell_type": "code",
   "execution_count": 39,
   "id": "cb33970f",
   "metadata": {},
   "outputs": [],
   "source": [
    "# div_tags = course_table.find_all('div')\n",
    "# eng_courses = []\n",
    "\n",
    "# for div in div_tags:\n",
    "#     a_link = div.find('a', class_='hasTooltip')\n",
    "#     if a_link != None:\n",
    "#         course_name = a_link.find(\"span\").string\n",
    "#         eng_courses.append(course_name)\n",
    "        \n",
    "# for i in range(len(eng_courses)):\n",
    "#     eng_courses[i] = \"01:\" + eng_courses[i]\n",
    "        \n",
    "# eng_courses = [*set(eng_courses)]\n",
    "# # eng_courses"
   ]
  },
  {
   "cell_type": "markdown",
   "id": "fd25b7dc",
   "metadata": {},
   "source": [
    "### Math "
   ]
  },
  {
   "cell_type": "code",
   "execution_count": 40,
   "id": "075b58d2",
   "metadata": {},
   "outputs": [],
   "source": [
    "# url = \"https://www.math.rutgers.edu/academics/undergraduate/courses\"\n",
    "# result = requests.get(url).text\n",
    "# doc = soup(result, \"html.parser\")"
   ]
  },
  {
   "cell_type": "code",
   "execution_count": 41,
   "id": "478fadf5",
   "metadata": {},
   "outputs": [],
   "source": [
    "# course_table = doc.find(\"table\", class_=\"category\")"
   ]
  },
  {
   "cell_type": "code",
   "execution_count": 42,
   "id": "c5f469f0",
   "metadata": {},
   "outputs": [],
   "source": [
    "# tr_tags = course_table.find_all('tr')\n",
    "# math_courses = []\n",
    "\n",
    "# for tr in tr_tags:\n",
    "#     td_link = tr.find('td', class_='list-title')\n",
    "#     if td_link != None:\n",
    "#         course = td_link.find(\"a\").string\n",
    "#         course = course.replace(u'\\n', u'')\n",
    "#         course = course.replace(u'\\t', u'')\n",
    "#         course = course.replace(u' - ', u' ')\n",
    "#         math_courses.append(course)\n",
    "\n",
    "# math_courses = math_courses[:-2]\n",
    "\n",
    "# math_courses = [*set(math_courses)]\n",
    "# # math_courses"
   ]
  },
  {
   "cell_type": "markdown",
   "id": "07a69bca",
   "metadata": {},
   "source": [
    "### Phys "
   ]
  },
  {
   "cell_type": "code",
   "execution_count": 43,
   "id": "bf772ce6",
   "metadata": {},
   "outputs": [],
   "source": [
    "# url = \"https://physics.camden.rutgers.edu/physics-courses/\"\n",
    "# result = requests.get(url).text\n",
    "# doc = soup(result, \"html.parser\")"
   ]
  },
  {
   "cell_type": "code",
   "execution_count": 44,
   "id": "72347cd4",
   "metadata": {},
   "outputs": [],
   "source": [
    "# course_table = doc.find(\"div\", class_=\"article-content page-content\")"
   ]
  },
  {
   "cell_type": "code",
   "execution_count": 45,
   "id": "70ebf453",
   "metadata": {},
   "outputs": [],
   "source": [
    "# p_tags = course_table.find_all('p')\n",
    "# phys_courses = []\n",
    "\n",
    "# for p in p_tags:\n",
    "#     strong_link = p.find('strong')\n",
    "#     if strong_link != None:\n",
    "#         course = strong_link.string\n",
    "#         if course != None and course[0] == '5':\n",
    "#             course = course.replace(u'\\xa0', u' ')\n",
    "#             phys_courses.append(course)\n",
    "        \n",
    "# phys_courses = phys_courses[1:]\n",
    "# phys_courses = list(filter(lambda course: (len(course) > 10) and (',' not in course), phys_courses))\n",
    "\n",
    "# for i in range(len(phys_courses)):\n",
    "#     par_index = phys_courses[i].find('(')\n",
    "#     if par_index != -1:\n",
    "#         phys_courses[i] = phys_courses[i][:par_index - 1]\n",
    "        \n",
    "# for i in range(len(phys_courses)):\n",
    "#     phys_courses[i] = \"01\" + phys_courses[i][2:]\n",
    "\n",
    "# phys_courses = [*set(phys_courses)]\n",
    "# # phys_courses"
   ]
  },
  {
   "cell_type": "markdown",
   "id": "c7a8a676",
   "metadata": {},
   "source": [
    "### Verifying Data"
   ]
  },
  {
   "cell_type": "code",
   "execution_count": 46,
   "id": "7f4fa57e",
   "metadata": {},
   "outputs": [],
   "source": [
    "# bio_courses"
   ]
  },
  {
   "cell_type": "code",
   "execution_count": 47,
   "id": "7152d1d3",
   "metadata": {},
   "outputs": [],
   "source": [
    "# chem_courses"
   ]
  },
  {
   "cell_type": "code",
   "execution_count": 48,
   "id": "33fc8fe4",
   "metadata": {},
   "outputs": [],
   "source": [
    "# cs_courses"
   ]
  },
  {
   "cell_type": "code",
   "execution_count": 49,
   "id": "831d2c78",
   "metadata": {},
   "outputs": [],
   "source": [
    "# eng_courses"
   ]
  },
  {
   "cell_type": "code",
   "execution_count": 50,
   "id": "05443c92",
   "metadata": {},
   "outputs": [],
   "source": [
    "# math_courses"
   ]
  },
  {
   "cell_type": "code",
   "execution_count": 51,
   "id": "0d2bf68e",
   "metadata": {},
   "outputs": [],
   "source": [
    "# phys_courses"
   ]
  },
  {
   "cell_type": "markdown",
   "id": "4410fbd3",
   "metadata": {},
   "source": [
    "### Creating Final List of Courses"
   ]
  },
  {
   "cell_type": "code",
   "execution_count": 52,
   "id": "cf34fd5b",
   "metadata": {},
   "outputs": [],
   "source": [
    "# courses.extend(bio_courses)\n",
    "# courses.extend(chem_courses)\n",
    "# courses.extend(cs_courses)\n",
    "# courses.extend(eng_courses)\n",
    "# courses.extend(math_courses)\n",
    "# courses.extend(phys_courses)"
   ]
  },
  {
   "cell_type": "code",
   "execution_count": 53,
   "id": "9df86024",
   "metadata": {},
   "outputs": [],
   "source": [
    "# courses = list(filter(lambda course: (len(course) <= 50), courses))\n",
    "\n",
    "# courses = [*set(courses)]\n",
    "\n",
    "# # print(len(courses))\n",
    "# # courses"
   ]
  },
  {
   "cell_type": "code",
   "execution_count": 54,
   "id": "28d755a3",
   "metadata": {},
   "outputs": [],
   "source": [
    "# courses_list = []\n",
    "\n",
    "# for course in courses:\n",
    "#     temp = [course, random.randint(3, 4)]\n",
    "#     courses_list.append(temp)\n",
    "    \n",
    "# courses_list"
   ]
  },
  {
   "cell_type": "code",
   "execution_count": 55,
   "id": "6f137d2b",
   "metadata": {},
   "outputs": [],
   "source": [
    "# with open('data/course-names.ob', 'wb') as fp:\n",
    "#     pickle.dump(courses_list, fp)"
   ]
  },
  {
   "cell_type": "code",
   "execution_count": 56,
   "id": "1a1592f4",
   "metadata": {},
   "outputs": [],
   "source": [
    "with open('data/course-names.ob', 'rb') as fp:\n",
    "    courses_list = pickle.load(fp)\n",
    "    \n",
    "# courses_list"
   ]
  },
  {
   "cell_type": "code",
   "execution_count": 57,
   "id": "28a4a6e4",
   "metadata": {},
   "outputs": [],
   "source": [
    "# classes_cmd_list = []\n",
    "\n",
    "# for i in courses_list:\n",
    "#     name = i[0]\n",
    "#     creds = i[1]\n",
    "#     temp = \"INSERT INTO Classes (name, credits) VALUES ('\" + name + \"', \" + str(creds) + \");\"\n",
    "#     print(temp)\n",
    "#     classes_cmd_list.append(temp)"
   ]
  },
  {
   "cell_type": "code",
   "execution_count": 58,
   "id": "9c6979f9",
   "metadata": {},
   "outputs": [],
   "source": [
    "# with open('data/classes-cmd-list.ob', 'wb') as fp:\n",
    "#     pickle.dump(classes_cmd_list, fp)"
   ]
  },
  {
   "cell_type": "code",
   "execution_count": 59,
   "id": "17d5e362",
   "metadata": {},
   "outputs": [],
   "source": [
    "with open('data/classes-cmd-list.ob', 'rb') as fp:\n",
    "    classes_cmd_list = pickle.load(fp)\n",
    "    \n",
    "# classes_cmd_list"
   ]
  },
  {
   "cell_type": "markdown",
   "id": "543e6246",
   "metadata": {},
   "source": [
    "# Allocating Random Courses to Students"
   ]
  },
  {
   "cell_type": "markdown",
   "id": "e006f7dc",
   "metadata": {},
   "source": [
    "### Random IsTaking Courses "
   ]
  },
  {
   "cell_type": "code",
   "execution_count": 60,
   "id": "b5b2c378",
   "metadata": {},
   "outputs": [],
   "source": [
    "# is_taking_count = []\n",
    "\n",
    "# for i in students:\n",
    "#     temp = [i[2], random.randint(4, 5)]\n",
    "#     is_taking_count.append(temp)"
   ]
  },
  {
   "cell_type": "code",
   "execution_count": 61,
   "id": "5b85b13e",
   "metadata": {},
   "outputs": [],
   "source": [
    "# is_taking_count"
   ]
  },
  {
   "cell_type": "code",
   "execution_count": 62,
   "id": "657bf906",
   "metadata": {},
   "outputs": [],
   "source": [
    "# total_num_classes = len(courses_list)\n",
    "\n",
    "# is_taking = {}\n",
    "\n",
    "# for stu in is_taking_count:\n",
    "#     curr_classes = []\n",
    "    \n",
    "#     for i in range(stu[1]):\n",
    "#         temp_class = courses_list[random.randint(0, total_num_classes - 1)][0]\n",
    "#         while temp_class in curr_classes:\n",
    "#             temp_class = courses_list[random.randint(0, total_num_classes - 1)][0]\n",
    "            \n",
    "#         curr_classes.append(temp_class)\n",
    "#     is_taking[stu[0]] = curr_classes\n",
    "    \n",
    "# is_taking"
   ]
  },
  {
   "cell_type": "code",
   "execution_count": 63,
   "id": "ac9c2f79",
   "metadata": {},
   "outputs": [],
   "source": [
    "# with open('data/is-taking-list.ob', 'wb') as fp:\n",
    "#     pickle.dump(is_taking, fp)"
   ]
  },
  {
   "cell_type": "code",
   "execution_count": 64,
   "id": "f5ba1059",
   "metadata": {},
   "outputs": [],
   "source": [
    "with open('data/is-taking-list.ob', 'rb') as fp:\n",
    "    is_taking = pickle.load(fp)\n",
    "    \n",
    "# is_taking"
   ]
  },
  {
   "cell_type": "code",
   "execution_count": 65,
   "id": "d1f481e5",
   "metadata": {},
   "outputs": [],
   "source": [
    "# istaking_cmd_list = []\n",
    "\n",
    "# for key in is_taking:\n",
    "#     sid = key\n",
    "#     curr_classes = is_taking[sid]\n",
    "#     for c in curr_classes:\n",
    "#         temp = \"INSERT INTO IsTaking (sid, name) VALUES (\" + str(sid) + \", '\" + c + \"');\"\n",
    "#         print(temp)\n",
    "#         istaking_cmd_list.append(temp)"
   ]
  },
  {
   "cell_type": "code",
   "execution_count": 66,
   "id": "05374770",
   "metadata": {},
   "outputs": [],
   "source": [
    "# with open('data/istaking-cmd-list.ob', 'wb') as fp:\n",
    "#     pickle.dump(istaking_cmd_list, fp)"
   ]
  },
  {
   "cell_type": "code",
   "execution_count": 67,
   "id": "92a0b244",
   "metadata": {},
   "outputs": [],
   "source": [
    "with open('data/istaking-cmd-list.ob', 'rb') as fp:\n",
    "    istaking_cmd_list = pickle.load(fp)"
   ]
  },
  {
   "cell_type": "markdown",
   "id": "c613d031",
   "metadata": {},
   "source": [
    "### Random HasTaken Courses and Grades "
   ]
  },
  {
   "cell_type": "code",
   "execution_count": 120,
   "id": "01e67fbc",
   "metadata": {},
   "outputs": [
    {
     "data": {
      "text/plain": [
       "21"
      ]
     },
     "execution_count": 120,
     "metadata": {},
     "output_type": "execute_result"
    }
   ],
   "source": [
    "possible_grades = ['A', 'A', 'A', 'A', 'A', 'A', 'A', 'A', 'A', 'A', 'B', 'B', 'B', 'B', 'B', 'B', 'C', 'C', 'C', 'D', 'F'] # Adjusted to make distribution normal\n",
    "len(possible_grades)"
   ]
  },
  {
   "cell_type": "code",
   "execution_count": 102,
   "id": "7c7a6008",
   "metadata": {},
   "outputs": [],
   "source": [
    "# # Since total credits t is: 0 <= t < 120, total classes c is around: 0 <= c < 35   (120 / 3.5 = 35)\n",
    "\n",
    "# has_taken_count = []\n",
    "\n",
    "# for i in students:\n",
    "#     temp = [i[2], random.randint(0, 34)]\n",
    "#     has_taken_count.append(temp)\n",
    "    \n",
    "# has_taken_count"
   ]
  },
  {
   "cell_type": "code",
   "execution_count": 103,
   "id": "7f5c41f4",
   "metadata": {},
   "outputs": [],
   "source": [
    "# # Verifying that distribution is around the same per year\n",
    "\n",
    "# f_c = 0 # Freshman\n",
    "# s_c = 0 # Sophomore\n",
    "# j_c = 0 # Junior\n",
    "# se_c = 0 # Senior\n",
    "\n",
    "# for i in has_taken_count:\n",
    "#     if i[1] >= 25:\n",
    "#         se_c += 1\n",
    "#     elif i[1] >= 17:\n",
    "#         j_c += 1\n",
    "#     elif i[1] >= 9:\n",
    "#         s_c += 1\n",
    "#     else:\n",
    "#         f_c += 1\n",
    "\n",
    "# print(f_c, s_c, j_c, se_c)"
   ]
  },
  {
   "cell_type": "code",
   "execution_count": 151,
   "id": "032d1cc4",
   "metadata": {},
   "outputs": [],
   "source": [
    "# def generate_has_taken():\n",
    "#     total_num_classes = len(courses_list)\n",
    "\n",
    "#     has_taken = []\n",
    "\n",
    "#     f_c = 0 # Freshman\n",
    "#     s_c = 0 # Sophomore\n",
    "#     j_c = 0 # Junior\n",
    "#     se_c = 0 # Senior\n",
    "\n",
    "#     total_creds = 0\n",
    "#     total_letter = 0\n",
    "\n",
    "#     for stu in has_taken_count:\n",
    "#         sid = stu[0]\n",
    "#         past_classes = []\n",
    "#         past_grades = []\n",
    "\n",
    "#         cred_count = 0\n",
    "\n",
    "#         for i in range(stu[1]):\n",
    "#             randint = random.randint(0, total_num_classes - 1)\n",
    "#             temp_class = courses_list[randint][0]\n",
    "#             temp_creds = courses_list[randint][1]\n",
    "\n",
    "#             while temp_class in past_classes or (temp_class in is_taking[sid]):\n",
    "#                 randint = random.randint(0, total_num_classes - 1)\n",
    "#                 temp_class = courses_list[randint][0]\n",
    "#                 temp_creds = courses_list[randint][1]\n",
    "\n",
    "#             cred_count += temp_creds # Count credits\n",
    "#             past_classes.append(temp_class)\n",
    "#             letter_grade = possible_grades[random.randint(0, 20)]\n",
    "#             past_grades.append(letter_grade)\n",
    "\n",
    "#             if letter_grade == 'A':\n",
    "#                 total_letter += temp_creds * 4\n",
    "#             elif letter_grade == 'B':\n",
    "#                 total_letter += temp_creds * 3\n",
    "#             elif letter_grade == 'C':\n",
    "#                 total_letter += temp_creds * 2\n",
    "#             elif letter_grade == 'D':\n",
    "#                 total_letter += temp_creds * 1\n",
    "\n",
    "#         if cred_count >= 90:\n",
    "#             se_c += 1\n",
    "#         elif cred_count >= 60:\n",
    "#             j_c += 1\n",
    "#         elif cred_count >= 30:\n",
    "#             s_c += 1\n",
    "#         else:\n",
    "#             f_c += 1           \n",
    "\n",
    "#         total_creds += cred_count\n",
    "#         cred_count = 0\n",
    "\n",
    "#         temp = [sid, past_classes, past_grades]\n",
    "#         has_taken.append(temp)\n",
    "\n",
    "#     # has_taken\n",
    "\n",
    "#     avg_gpa = total_letter / total_creds\n",
    "\n",
    "#     print(f_c, s_c, j_c, se_c)\n",
    "#     print(avg_gpa)\n",
    "#     return avg_gpa\n",
    "\n",
    "# gpa = 0\n",
    "# while (gpa < 3.15):\n",
    "#     gpa = generate_has_taken()"
   ]
  },
  {
   "cell_type": "code",
   "execution_count": 153,
   "id": "f2f219cc",
   "metadata": {},
   "outputs": [],
   "source": [
    "# with open('data/has-taken-list.ob', 'wb') as fp:\n",
    "#     pickle.dump(has_taken, fp)"
   ]
  },
  {
   "cell_type": "code",
   "execution_count": 155,
   "id": "50998545",
   "metadata": {},
   "outputs": [],
   "source": [
    "with open('data/has-taken-list.ob', 'rb') as fp:\n",
    "    has_taken = pickle.load(fp)\n",
    "    \n",
    "# has_taken"
   ]
  },
  {
   "cell_type": "code",
   "execution_count": 74,
   "id": "51e05626",
   "metadata": {},
   "outputs": [],
   "source": [
    "# sid = []\n",
    "# for i in has_taken:\n",
    "#     sid.append(i[0])\n",
    "    \n",
    "# sid = [*set(sid)]\n",
    "# len(sid)"
   ]
  },
  {
   "cell_type": "code",
   "execution_count": 157,
   "id": "fd0c480c",
   "metadata": {},
   "outputs": [],
   "source": [
    "# hastaken_cmd_list = []\n",
    "\n",
    "# for stu in has_taken:\n",
    "#     sid = stu[0]\n",
    "#     past_classes = stu[1]\n",
    "#     past_grades = stu[2]\n",
    "    \n",
    "#     for i in range(len(past_classes)):\n",
    "#         temp = \"INSERT INTO HasTaken (sid, name, grade) VALUES (\" + str(sid) + \", '\" + past_classes[i] + \"', '\" + past_grades[i] + \"');\"\n",
    "#         print(temp)\n",
    "#         hastaken_cmd_list.append(temp)"
   ]
  },
  {
   "cell_type": "code",
   "execution_count": 159,
   "id": "1feaea9d",
   "metadata": {},
   "outputs": [],
   "source": [
    "# with open('data/hastaken-cmd-list.ob', 'wb') as fp:\n",
    "#     pickle.dump(hastaken_cmd_list, fp)"
   ]
  },
  {
   "cell_type": "code",
   "execution_count": 160,
   "id": "9e4fe4cb",
   "metadata": {},
   "outputs": [],
   "source": [
    "# with open('data/hastaken-cmd-list.ob', 'rb') as fp:\n",
    "#     hastaken_cmd_list = pickle.load(fp)"
   ]
  },
  {
   "cell_type": "markdown",
   "id": "def70fde",
   "metadata": {},
   "source": [
    "# Writing Queries to Text Files"
   ]
  },
  {
   "cell_type": "markdown",
   "id": "a438e283",
   "metadata": {},
   "source": [
    "### Departments "
   ]
  },
  {
   "cell_type": "code",
   "execution_count": 78,
   "id": "98c31ed4",
   "metadata": {},
   "outputs": [],
   "source": [
    "file = open('query/departments.txt', 'w')\n",
    "\n",
    "dept_cmd_list = [\"INSERT INTO Departments (name, campus) VALUES ('Bio', 'Busch');\",\n",
    "                 \"INSERT INTO Departments (name, campus) VALUES ('Chem', 'Livi');\",\n",
    "                 \"INSERT INTO Departments (name, campus) VALUES ('CS', 'CAC');\",\n",
    "                 \"INSERT INTO Departments (name, campus) VALUES ('Eng', 'CD');\",\n",
    "                 \"INSERT INTO Departments (name, campus) VALUES ('Math', 'CAC');\",\n",
    "                 \"INSERT INTO Departments (name, campus) VALUES ('Phys', 'Busch');\"]\n",
    "\n",
    "for cmd in dept_cmd_list:\n",
    "    file.write(cmd + '\\n')\n",
    "    \n",
    "file.close()"
   ]
  },
  {
   "cell_type": "markdown",
   "id": "73358298",
   "metadata": {},
   "source": [
    "### Students"
   ]
  },
  {
   "cell_type": "code",
   "execution_count": 79,
   "id": "f30b358a",
   "metadata": {},
   "outputs": [],
   "source": [
    "file = open('query/students.txt', 'w')\n",
    "\n",
    "for cmd in student_cmd_list:\n",
    "    file.write(cmd + '\\n')\n",
    "    \n",
    "file.close()"
   ]
  },
  {
   "cell_type": "markdown",
   "id": "b960cc68",
   "metadata": {},
   "source": [
    "### Classes "
   ]
  },
  {
   "cell_type": "code",
   "execution_count": 80,
   "id": "e5873804",
   "metadata": {},
   "outputs": [],
   "source": [
    "file = open('query/classes.txt', 'w')\n",
    "\n",
    "for cmd in classes_cmd_list:\n",
    "    file.write(cmd + '\\n')\n",
    "    \n",
    "file.close()"
   ]
  },
  {
   "cell_type": "markdown",
   "id": "98acf889",
   "metadata": {},
   "source": [
    "### Majors "
   ]
  },
  {
   "cell_type": "code",
   "execution_count": 81,
   "id": "d8714b60",
   "metadata": {},
   "outputs": [],
   "source": [
    "file = open('query/majors.txt', 'w')\n",
    "\n",
    "for cmd in major_cmd_list:\n",
    "    file.write(cmd + '\\n')\n",
    "    \n",
    "file.close()"
   ]
  },
  {
   "cell_type": "markdown",
   "id": "3a943632",
   "metadata": {},
   "source": [
    "### Minors "
   ]
  },
  {
   "cell_type": "code",
   "execution_count": 82,
   "id": "048229a6",
   "metadata": {},
   "outputs": [],
   "source": [
    "file = open('query/minors.txt', 'w')\n",
    "\n",
    "for cmd in minor_cmd_list:\n",
    "    file.write(cmd + '\\n')\n",
    "    \n",
    "file.close()"
   ]
  },
  {
   "cell_type": "markdown",
   "id": "8d9d2748",
   "metadata": {},
   "source": [
    "### IsTaking"
   ]
  },
  {
   "cell_type": "code",
   "execution_count": 83,
   "id": "2362d012",
   "metadata": {},
   "outputs": [],
   "source": [
    "file = open('query/istaking.txt', 'w')\n",
    "\n",
    "for cmd in istaking_cmd_list:\n",
    "    file.write(cmd + '\\n')\n",
    "    \n",
    "file.close()"
   ]
  },
  {
   "cell_type": "markdown",
   "id": "2699aafe",
   "metadata": {},
   "source": [
    "### HasTaken "
   ]
  },
  {
   "cell_type": "code",
   "execution_count": 161,
   "id": "4ddda9a3",
   "metadata": {},
   "outputs": [],
   "source": [
    "file = open('query/hastaken.txt', 'w')\n",
    "\n",
    "for cmd in hastaken_cmd_list:\n",
    "    file.write(cmd + '\\n')\n",
    "    \n",
    "file.close()"
   ]
  },
  {
   "cell_type": "code",
   "execution_count": null,
   "id": "a60b6614",
   "metadata": {},
   "outputs": [],
   "source": []
  }
 ],
 "metadata": {
  "kernelspec": {
   "display_name": "Python 3 (ipykernel)",
   "language": "python",
   "name": "python3"
  },
  "language_info": {
   "codemirror_mode": {
    "name": "ipython",
    "version": 3
   },
   "file_extension": ".py",
   "mimetype": "text/x-python",
   "name": "python",
   "nbconvert_exporter": "python",
   "pygments_lexer": "ipython3",
   "version": "3.9.13"
  }
 },
 "nbformat": 4,
 "nbformat_minor": 5
}
